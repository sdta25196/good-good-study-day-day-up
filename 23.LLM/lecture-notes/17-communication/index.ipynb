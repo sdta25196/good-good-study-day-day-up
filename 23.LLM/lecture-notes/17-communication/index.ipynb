{
 "cells": [
  {
   "cell_type": "markdown",
   "metadata": {},
   "source": [
    "# 业务沟通\n",
    "\n",
    "如何和业务相关方沟通？业务相关方包括用户、客户、运营、市场、销售、老板等等。\n",
    "\n",
    "## 为什么程序员普遍不擅长沟通？\n"
   ]
  },
  {
   "cell_type": "markdown",
   "metadata": {},
   "source": [
    "[《思考，快与慢》](https://www.dedao.cn/ebook/detail?id=ekM2z5Kexap9AKyJEz8DOYn6GNrV20KNxqwdgbRXq1Qvlj7P5ZmoMkLB47y6ONAv)将人类的思维归纳为两大思考模式：\n",
    "\n",
    "- 系统一快速、直觉且情绪化\n",
    "- 系统二较慢、较具计划性且更仰赖逻辑\n",
    "\n",
    "程序员爱知求真讲逻辑，习惯使用系统二，把系统一也驯化到逻辑为先了。\n",
    "\n",
    "而沟通要解决的核心，是感受问题，归系统一管。\n",
    "\n",
    "<div class=\"alert alert-warning\">\n",
    "<strong>思考：</strong>AI 有系统一和系统二吗？\n",
    "</div>\n"
   ]
  },
  {
   "cell_type": "markdown",
   "metadata": {},
   "source": [
    "## 程序员怎么练沟通？\n"
   ]
  },
  {
   "cell_type": "markdown",
   "metadata": {},
   "source": [
    "<div class=\"alert alert-success\">\n",
    "<b>划重点：</b>实践\n",
    "</div>\n",
    "\n",
    "别逃避，逼自己上去。\n",
    "\n",
    "我们的优势：用刻意隐藏的逻辑打败情绪，相当无敌。\n"
   ]
  },
  {
   "cell_type": "markdown",
   "metadata": {},
   "source": [
    "## 沟通内核\n",
    "\n",
    "找到：\n",
    "\n",
    "1. 事情之外的连接\n",
    "   - 破冰，增加亲切感\n",
    "2. 对方真需求\n",
    "3. 双方共同价值目标\n",
    "   - 好的合作一定基于共同利益。\n"
   ]
  },
  {
   "cell_type": "markdown",
   "metadata": {},
   "source": [
    "## 沟通姿势\n",
    "\n",
    "1. 听多于说\n",
    "   - 有些问题，对方说完了，也就解决了\n",
    "   - 获取的信息越多，越有助于理解问题\n",
    "2. 问多于说\n",
    "   - 问是为了更多地收集信息\n",
    "   - 同时也让对方感受到被关注\n",
    "   - 「然后呢？」「你怎么看？」「你希望我怎么做？」\n",
    "3. 想多于说\n",
    "   - 边收集信息边思考\n",
    "   - 想清楚了再说。在头脑里构造思维链，而不是在嘴里。\n",
    "4. 怎么说？\n",
    "   - 「Yes, and」\n",
    "   - 先回应情绪，「我看出来了，您一定很着急/生气/对我很不满意。如果换成我，我肯定比您还着急/生气/不满意」\n",
    "   - 再复述对方的需求，寻求确认，「您希望我能够……，对不对？」\n",
    "   - 最后提出自己的想法，「我觉得……，您觉得怎么样？」\n",
    "   - 出现矛盾，找共同基点，「咱们都是为了公司好，对不对？」「咱们都是想达成这个月的 KPI，对不对？」\n"
   ]
  },
  {
   "cell_type": "markdown",
   "metadata": {},
   "source": [
    "## 沟通小技巧\n",
    "\n",
    "1. 越难的沟通，越要在非正式场合\n",
    "2. 能 90° 坐，别面对面\n",
    "3. 多看对方的眼睛\n",
    "4. 清晰地把手机扣在桌上/合上电脑\n",
    "5. 记笔记\n"
   ]
  },
  {
   "cell_type": "markdown",
   "metadata": {},
   "source": [
    "## 功夫在日常\n",
    "\n",
    "无事要登三宝殿。\n",
    "\n",
    "1. 多进行社交媒体互动\n",
    "2. 多去对方那里转转（如果工位搬过去就更好了）\n",
    "3. 时不时请吃饭\n"
   ]
  },
  {
   "cell_type": "markdown",
   "metadata": {},
   "source": [
    "## 扩展学习\n",
    "\n",
    "- [得到·沟通训练营](https://zt.igetget.com/visual/zDOqvrr0KkS7VVN5QBlD.html?source_id=6zU-Bz3d9no_QQRc-kZfUw) - 虽然贵点儿，但值。而且是我在得到的遗作\n",
    "- [关键对话·如何高效能沟通](https://item.jd.com/10066148690800.html) - 讲沟通的书很多，这一本就够了\n"
   ]
  },
  {
   "cell_type": "markdown",
   "metadata": {},
   "source": [
    "## 用「希拉斯原则」总结全课\n",
    "\n",
    "希拉斯原则全称是「Schillace Laws of Semantic AI」，由微软副 CTO 山姆·希拉斯基于他使用 GPT-4 的经验而提出。全文见：https://learn.microsoft.com/en-us/semantic-kernel/when-to-use-ai/schillace-laws\n",
    "\n",
    "核心观点：\n",
    "\n",
    "1. 如果模型能做，就不要写代码。模型会变得更好，但代码不会。\n",
    "2. 为了精确性，可以上代码。但要用参数来保持通用。\n",
    "3. 代码用来解决规则和过程问题。模型用来解决语义和意图问题。\n",
    "4. 系统的脆弱程度，取决于最脆弱的部分。不要用硬编码。\n",
    "5. 聪明的提问获得聪明的回答。\n",
    "6. 把不确定性当作异常处理。\n",
    "7. 文本是通用的协议。\n",
    "8. 对你来说难的，对模型来说也难。\n",
    "9. 当心幻觉。可以让模型自己检查自己。\n",
    "\n",
    "最后，请记住 [AGI 课堂](https://agiclass.ai)的核心观点：**「把 AI 当人看」**。\n"
   ]
  }
 ],
 "metadata": {
  "kernelspec": {
   "display_name": "Python 3 (ipykernel)",
   "language": "python",
   "name": "python3"
  },
  "language_info": {
   "codemirror_mode": {
    "name": "ipython",
    "version": 3
   },
   "file_extension": ".py",
   "mimetype": "text/x-python",
   "name": "python",
   "nbconvert_exporter": "python",
   "pygments_lexer": "ipython3",
   "version": "3.11.4"
  }
 },
 "nbformat": 4,
 "nbformat_minor": 4
}
