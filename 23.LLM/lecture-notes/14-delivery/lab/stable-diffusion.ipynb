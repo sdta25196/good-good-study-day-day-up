{
 "cells": [
  {
   "cell_type": "markdown",
   "metadata": {},
   "source": [
    "## stable diffusion\n",
    "\n",
    "## 热身\n",
    "\n",
    "一键搭建 stable diffusion\n",
    "\n",
    "![sd-step1](./img/sd-step1.png)\n",
    "![sd-step2](./img/sd-step1.png)\n",
    "![sd-step3](./img/sd-step3.png)\n",
    "\n",
    "#### 等部署完成后，点击启动 Web 应用即可\n",
    "\n",
    "#### 实验提示词：\n",
    "\n",
    "```\n",
    "A photorealistic, highly detailed illustration of Ana de Armas in a vintage Hollywood style, reminiscent of the golden age of cinema, with a focus on glamour and elegance.\n",
    "```\n",
    "\n",
    "![sd-web-ui](./img/sd-web-ui.png)\n"
   ]
  },
  {
   "cell_type": "code",
   "execution_count": null,
   "metadata": {},
   "outputs": [],
   "source": []
  }
 ],
 "metadata": {
  "kernelspec": {
   "display_name": "Python 3 (ipykernel)",
   "language": "python",
   "name": "python3"
  },
  "language_info": {
   "codemirror_mode": {
    "name": "ipython",
    "version": 3
   },
   "file_extension": ".py",
   "mimetype": "text/x-python",
   "name": "python",
   "nbconvert_exporter": "python",
   "pygments_lexer": "ipython3",
   "version": "3.11.4"
  }
 },
 "nbformat": 4,
 "nbformat_minor": 4
}
