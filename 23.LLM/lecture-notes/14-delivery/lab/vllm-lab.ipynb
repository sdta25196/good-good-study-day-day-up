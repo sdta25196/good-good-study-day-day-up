{
 "cells": [
  {
   "cell_type": "markdown",
   "metadata": {},
   "source": [
    "## 使用 vllm 部署我们的推理模型\n",
    "\n",
    "\n",
    "### 部署前准备\n",
    "##### 我们需要把想运行的模型下载到服务器上\n",
    "\n",
    "* 以 通义千问-7B 为案例\n",
    "\n",
    "##### 下载模型\n",
    "\n",
    "```\n",
    "git lfs install\n",
    "git clone https://huggingface.co/Qwen/Qwen-7B-Chat\n",
    "```\n",
    "\n",
    "\n",
    "### 开始部署\n",
    "\n",
    "#### 第一步 设置 conda 环境\n",
    "\n",
    "```\n",
    "# 创建新的 conda 环境.\n",
    "conda create -n myenv python=3.9 -y\n",
    "\n",
    "conda activate myenv\n",
    "```\n",
    "\n",
    "#### 第二步 安装 vllm\n",
    "```\n",
    "pip install vllm\n",
    "```\n",
    "\n",
    "#### 第三步 安装 modelscope\n",
    "\n",
    "用于下载镜像加速\n",
    "\n",
    "```\n",
    "pip install modelscope\n",
    "```\n",
    "\n",
    "#### 第四步 运行我们的模型\n",
    "\n",
    "```\n",
    "VLLM_USE_MODELSCOPE=True python -m vllm.entrypoints.openai.api_server  --model=\"01ai/Yi-6B-Chat\" --trust-remote-code --port 6006\n",
    "```\n",
    "\n",
    "#### 第五步测试：\n",
    "\n",
    "记得把下面的地址换成自己服务的地址\n",
    "\n",
    "```\n",
    "curl https://u202774-a5d2-aaa1d45d.westb.seetacloud.com:8443/v1/completions \\\n",
    "    -H \"Content-Type: application/json\" \\\n",
    "    -d '{\n",
    "        \"model\": \"01ai/Yi-6B-Chat\",\n",
    "        \"prompt\": \"你好\",\n",
    "        \"max_tokens\": 100,\n",
    "        \"temperature\": 0.7\n",
    "    }'\n",
    "```\n"
   ]
  },
  {
   "cell_type": "code",
   "execution_count": null,
   "metadata": {},
   "outputs": [],
   "source": []
  }
 ],
 "metadata": {
  "kernelspec": {
   "display_name": "Python 3 (ipykernel)",
   "language": "python",
   "name": "python3"
  },
  "language_info": {
   "codemirror_mode": {
    "name": "ipython",
    "version": 3
   },
   "file_extension": ".py",
   "mimetype": "text/x-python",
   "name": "python",
   "nbconvert_exporter": "python",
   "pygments_lexer": "ipython3",
   "version": "3.11.4"
  }
 },
 "nbformat": 4,
 "nbformat_minor": 4
}
